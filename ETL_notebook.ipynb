{
 "cells": [
  {
   "cell_type": "code",
   "execution_count": 0,
   "metadata": {
    "application/vnd.databricks.v1+cell": {
     "cellMetadata": {
      "byteLimit": 2048000,
      "rowLimit": 10000
     },
     "inputWidgets": {},
     "nuid": "a8c9562b-9aec-4773-a8d9-85ab5cd2d42b",
     "showTitle": false,
     "tableResultSettingsMap": {},
     "title": ""
    }
   },
   "outputs": [],
   "source": [
    "from pyspark.sql.functions import from_json, col, current_timestamp\n",
    "from pyspark.sql.types import (\n",
    "    StructType, StringType, StructField, TimestampNTZType, IntegerType, FloatType, ArrayType, LongType\n",
    ")"
   ]
  },
  {
   "cell_type": "code",
   "execution_count": 0,
   "metadata": {
    "application/vnd.databricks.v1+cell": {
     "cellMetadata": {
      "byteLimit": 2048000,
      "rowLimit": 10000
     },
     "inputWidgets": {},
     "nuid": "b9ae9e9a-4359-4df9-a347-33750bb05c19",
     "showTitle": false,
     "tableResultSettingsMap": {},
     "title": ""
    }
   },
   "outputs": [],
   "source": [
    "schema = StructType([\n",
    "    StructField(\"city\", StringType(), False),\n",
    "    StructField(\"temperature\", FloatType(), True),\n",
    "    StructField(\"feel_temperature\", FloatType(), False),\n",
    "    StructField(\"temp_min\", FloatType(), True),\n",
    "    StructField(\"temp_max\", FloatType(), True),\n",
    "    StructField(\"humidity\", IntegerType(), True),\n",
    "    StructField(\"pressure\", FloatType(), True),\n",
    "    StructField(\"cloudiness\", IntegerType(), True),\n",
    "    StructField(\"wind_speed\", FloatType(), True),\n",
    "    StructField(\"wind_direction\", IntegerType(), True),\n",
    "    StructField(\"weather_category\", StringType(), True),\n",
    "    StructField(\"weather_description\", StringType(), True),\n",
    "    StructField(\"weather_icon\", StringType(), True),\n",
    "    StructField(\"sunrise_time\", IntegerType(), True),\n",
    "    StructField(\"sunset_time\", IntegerType(), True),\n",
    "    StructField(\"recording_timestamp\", TimestampNTZType(), False),\n",
    "])"
   ]
  },
  {
   "cell_type": "code",
   "execution_count": 0,
   "metadata": {
    "application/vnd.databricks.v1+cell": {
     "cellMetadata": {
      "byteLimit": 2048000,
      "rowLimit": 10000
     },
     "inputWidgets": {},
     "nuid": "b27c80f5-6de1-4977-a24b-b3fe052fbd36",
     "showTitle": false,
     "tableResultSettingsMap": {},
     "title": ""
    }
   },
   "outputs": [],
   "source": [
    "dbutils.secrets.listScopes()"
   ]
  },
  {
   "cell_type": "code",
   "execution_count": 0,
   "metadata": {
    "application/vnd.databricks.v1+cell": {
     "cellMetadata": {
      "byteLimit": 2048000,
      "rowLimit": 10000
     },
     "inputWidgets": {},
     "nuid": "c6ba117d-dc88-4ce4-85be-f1e31acf2f47",
     "showTitle": false,
     "tableResultSettingsMap": {},
     "title": ""
    }
   },
   "outputs": [],
   "source": [
    "conn_str = dbutils.secrets.get(scope=\"db-weather-vault\", key=\"weather-conn-str\")\n",
    "#eventhub_name = dbutils.secrets.get(scope=\"db-weather-vault\", key=\"weather-eventhub\")"
   ]
  },
  {
   "cell_type": "code",
   "execution_count": 0,
   "metadata": {
    "application/vnd.databricks.v1+cell": {
     "cellMetadata": {
      "byteLimit": 2048000,
      "rowLimit": 10000
     },
     "inputWidgets": {},
     "nuid": "da208079-4733-42f1-b57f-68819f80c8b0",
     "showTitle": false,
     "tableResultSettingsMap": {},
     "title": ""
    }
   },
   "outputs": [],
   "source": [
    "event_hub_config = {\n",
    "    'eventhubs.connectionString': sc._jvm.org.apache.spark.eventhubs.EventHubsUtils.encrypt(conn_str)\n",
    "}"
   ]
  },
  {
   "cell_type": "code",
   "execution_count": 0,
   "metadata": {
    "application/vnd.databricks.v1+cell": {
     "cellMetadata": {
      "byteLimit": 2048000,
      "rowLimit": 10000
     },
     "inputWidgets": {},
     "nuid": "d5b47cd3-16b4-4963-91a9-61be4526ace2",
     "showTitle": false,
     "tableResultSettingsMap": {},
     "title": ""
    }
   },
   "outputs": [],
   "source": [
    "df_raw = (\n",
    "    spark.readStream\n",
    "    .format(\"eventhubs\")\n",
    "    .options(**event_hub_config)\n",
    "    .load()\n",
    ")\n",
    "\n",
    "# df_raw.display()"
   ]
  },
  {
   "cell_type": "code",
   "execution_count": 0,
   "metadata": {
    "application/vnd.databricks.v1+cell": {
     "cellMetadata": {
      "byteLimit": 2048000,
      "rowLimit": 10000
     },
     "inputWidgets": {},
     "nuid": "7cd58164-39da-4695-84a1-ecec3495deee",
     "showTitle": false,
     "tableResultSettingsMap": {},
     "title": ""
    }
   },
   "outputs": [],
   "source": [
    "# remove delta log to properly delete old schema when deleting and recreating tables\n",
    "# spark.sql(\"drop table azure_weather_db.bronze.raw_weather_data\")\n",
    "dbutils.fs.rm(\"abfss://unity-catalog-storage@dbstorage7pezjm3fdwfxa.dfs.core.windows.net/weather_data/bronze/raw_weather_data\", recurse=True)\n"
   ]
  },
  {
   "cell_type": "code",
   "execution_count": 0,
   "metadata": {
    "application/vnd.databricks.v1+cell": {
     "cellMetadata": {
      "byteLimit": 2048000,
      "rowLimit": 10000
     },
     "inputWidgets": {},
     "nuid": "029608e3-e782-4856-8e46-cebc79e22bc1",
     "showTitle": false,
     "tableResultSettingsMap": {},
     "title": ""
    }
   },
   "outputs": [],
   "source": [
    "# create managed table for bronze\n",
    "spark.sql(\"\"\"\n",
    "          CREATE TABLE IF NOT EXISTS azure_weather_db.bronze.raw_weather_data (\n",
    "              body BINARY,\n",
    "              recording_timestamp TIMESTAMP\n",
    "          )\n",
    "          USING DELTA\n",
    "          LOCATION 'abfss://unity-catalog-storage@dbstorage7pezjm3fdwfxa.dfs.core.windows.net/weather_data/bronze/raw_weather_data'\n",
    "\"\"\")"
   ]
  },
  {
   "cell_type": "code",
   "execution_count": 0,
   "metadata": {
    "application/vnd.databricks.v1+cell": {
     "cellMetadata": {
      "byteLimit": 2048000,
      "rowLimit": 10000
     },
     "inputWidgets": {},
     "nuid": "795508a4-0af6-41a7-8c56-1059693e9360",
     "showTitle": false,
     "tableResultSettingsMap": {},
     "title": ""
    }
   },
   "outputs": [],
   "source": [
    "spark.table(\"azure_weather_db.bronze.raw_weather_data\").printSchema()"
   ]
  },
  {
   "cell_type": "code",
   "execution_count": 0,
   "metadata": {
    "application/vnd.databricks.v1+cell": {
     "cellMetadata": {
      "byteLimit": 2048000,
      "rowLimit": 10000
     },
     "inputWidgets": {},
     "nuid": "d3d5a82b-4780-447c-9393-857e26675c0f",
     "showTitle": false,
     "tableResultSettingsMap": {},
     "title": ""
    }
   },
   "outputs": [],
   "source": [
    "# define bronze df\n",
    "df_bronze = df_raw.select(\n",
    "    col(\"body\"),\n",
    "    col(\"enqueuedTime\").alias(\"recording_timestamp\")\n",
    ")"
   ]
  },
  {
   "cell_type": "code",
   "execution_count": 0,
   "metadata": {
    "application/vnd.databricks.v1+cell": {
     "cellMetadata": {
      "byteLimit": 2048000,
      "rowLimit": 10000
     },
     "inputWidgets": {},
     "nuid": "563f0b90-68e6-4d3b-87f2-a399c06caf6d",
     "showTitle": false,
     "tableResultSettingsMap": {},
     "title": ""
    }
   },
   "outputs": [],
   "source": [
    "# write bronze into the delta storage\n",
    "(\n",
    "    df_bronze.writeStream\n",
    "        .format(\"delta\")\n",
    "        .option(\"checkpointLocation\", \"abfss://unity-catalog-storage@dbstorage7pezjm3fdwfxa.dfs.core.windows.net/weather_data/bronze/raw_weather_data\")\n",
    "        .outputMode(\"append\")\n",
    "        .start(\"abfss://unity-catalog-storage@dbstorage7pezjm3fdwfxa.dfs.core.windows.net/weather_data/bronze/raw_weather_data\")\n",
    ")"
   ]
  },
  {
   "cell_type": "code",
   "execution_count": 0,
   "metadata": {
    "application/vnd.databricks.v1+cell": {
     "cellMetadata": {
      "byteLimit": 2048000,
      "rowLimit": 10000
     },
     "inputWidgets": {},
     "nuid": "45e86543-3600-44c8-8a7b-70a30b26c940",
     "showTitle": false,
     "tableResultSettingsMap": {},
     "title": ""
    }
   },
   "outputs": [],
   "source": [
    "# first create schema in this catalog before stream table creations\n",
    "spark.sql(\"CREATE SCHEMA IF NOT EXISTS azure_weather_db.silver;\")"
   ]
  },
  {
   "cell_type": "code",
   "execution_count": 0,
   "metadata": {
    "application/vnd.databricks.v1+cell": {
     "cellMetadata": {
      "byteLimit": 2048000,
      "rowLimit": 10000
     },
     "inputWidgets": {},
     "nuid": "fd4fc393-2818-427f-a818-127751604c7c",
     "showTitle": false,
     "tableResultSettingsMap": {},
     "title": ""
    }
   },
   "outputs": [],
   "source": [
    "# create silver table\n",
    "spark.sql(\"\"\"\n",
    "          CREATE TABLE azure_weather_db.silver.weather_data (\n",
    "              city STRING NOT NULL,\n",
    "              temperature FLOAT NOT NULL,\n",
    "              feel_temperature FLOAT NOT NULL,\n",
    "              temp_min FLOAT,\n",
    "              temp_max FLOAT,\n",
    "              humidity INT,\n",
    "              pressure FLOAT,\n",
    "              cloudiness INT,\n",
    "              wind_speed FLOAT,\n",
    "              wind_direction INT,\n",
    "              weather_category STRING,\n",
    "              weather_description STRING,\n",
    "              weather_icon STRING,\n",
    "              sunrise_time LONG,\n",
    "              sunset_time LONG,\n",
    "              enqueued_time TIMESTAMP,\n",
    "              recording_timestamp TIMESTAMP\n",
    "          )\n",
    "          USING DELTA\n",
    "          LOCATION 'abfss://unity-catalog-storage@dbstorage7pezjm3fdwfxa.dfs.core.windows.net/weather_data/silver/weather_data'\n",
    "\"\"\")"
   ]
  },
  {
   "cell_type": "code",
   "execution_count": 0,
   "metadata": {
    "application/vnd.databricks.v1+cell": {
     "cellMetadata": {
      "byteLimit": 2048000,
      "rowLimit": 10000
     },
     "inputWidgets": {},
     "nuid": "050720a9-9441-43c2-bfc9-8704e028aafe",
     "showTitle": false,
     "tableResultSettingsMap": {},
     "title": ""
    }
   },
   "outputs": [],
   "source": [
    "# delete silver table, in case of recreation (delete table, plus file logs)\n",
    "spark.sql(\"DROP TABLE azure_weather_db.silver.weather_data\")\n",
    "dbutils.fs.rm(\"abfss://unity-catalog-storage@dbstorage7pezjm3fdwfxa.dfs.core.windows.net/weather_data/silver/weather_data\", recurse=True)"
   ]
  },
  {
   "cell_type": "code",
   "execution_count": 0,
   "metadata": {
    "application/vnd.databricks.v1+cell": {
     "cellMetadata": {
      "byteLimit": 2048000,
      "rowLimit": 10000
     },
     "inputWidgets": {},
     "nuid": "f6f15a0e-b9ff-499e-a7d7-ac9427ad942a",
     "showTitle": false,
     "tableResultSettingsMap": {},
     "title": ""
    }
   },
   "outputs": [],
   "source": [
    "# create readstream from bronze table\n",
    "df_bronze = spark.readStream.table(\"azure_weather_db.bronze.raw_weather_data\")"
   ]
  },
  {
   "cell_type": "code",
   "execution_count": 0,
   "metadata": {
    "application/vnd.databricks.v1+cell": {
     "cellMetadata": {
      "byteLimit": 2048000,
      "rowLimit": 10000
     },
     "inputWidgets": {},
     "nuid": "59b9c9ff-2e15-4895-aa0b-7e32f51f628f",
     "showTitle": false,
     "tableResultSettingsMap": {},
     "title": ""
    }
   },
   "outputs": [],
   "source": [
    "# define the raw weather payload schema as it is send from eventhub\n",
    "raw_schema = StructType([\n",
    "    StructField(\"coord\", StructType([\n",
    "        StructField(\"lon\", FloatType()),\n",
    "        StructField(\"lat\", FloatType())\n",
    "    ])),\n",
    "    StructField(\"weather\", ArrayType(StructType([\n",
    "        StructField(\"id\", IntegerType()),\n",
    "        StructField(\"main\", StringType()),\n",
    "        StructField(\"description\", StringType()),\n",
    "        StructField(\"icon\", StringType())\n",
    "    ]))),\n",
    "    StructField(\"main\", StructType([\n",
    "        StructField(\"temp\", FloatType()),\n",
    "        StructField(\"feels_like\", FloatType()),\n",
    "        StructField(\"temp_min\", FloatType()),\n",
    "        StructField(\"temp_max\", FloatType()),\n",
    "        StructField(\"pressure\", FloatType()),\n",
    "        StructField(\"humidity\", IntegerType()),\n",
    "        StructField(\"sea_level\", FloatType()),\n",
    "        StructField(\"grnd_level\", FloatType())\n",
    "    ])),\n",
    "    StructField(\"wind\", StructType([\n",
    "        StructField(\"speed\", FloatType()),\n",
    "        StructField(\"deg\", IntegerType()),\n",
    "        StructField(\"gust\", FloatType())\n",
    "    ])),\n",
    "    StructField(\"clouds\", StructType([\n",
    "        StructField(\"all\", IntegerType())\n",
    "    ])),\n",
    "    StructField(\"dt\", LongType()),\n",
    "    StructField(\"sys\", StructType([\n",
    "        StructField(\"sunrise\", LongType()),\n",
    "        StructField(\"sunset\", LongType())\n",
    "    ])),\n",
    "    StructField(\"name\", StringType())\n",
    "])"
   ]
  },
  {
   "cell_type": "code",
   "execution_count": 0,
   "metadata": {
    "application/vnd.databricks.v1+cell": {
     "cellMetadata": {
      "byteLimit": 2048000,
      "rowLimit": 10000
     },
     "inputWidgets": {},
     "nuid": "4ac8a53a-fe09-4006-829b-0ddad2b115be",
     "showTitle": false,
     "tableResultSettingsMap": {},
     "title": ""
    }
   },
   "outputs": [],
   "source": [
    "# first decode binary payload to string\n",
    "df_bronze = df_bronze.withColumn(\"json_str\", col(\"body\").cast(\"string\"))"
   ]
  },
  {
   "cell_type": "code",
   "execution_count": 0,
   "metadata": {
    "application/vnd.databricks.v1+cell": {
     "cellMetadata": {
      "byteLimit": 2048000,
      "rowLimit": 10000
     },
     "inputWidgets": {},
     "nuid": "e07482c4-6283-4b5a-bf6f-38b55ce3e0e9",
     "showTitle": false,
     "tableResultSettingsMap": {},
     "title": ""
    }
   },
   "outputs": [],
   "source": [
    "# Add field to track corruption in raw schema, in case of invalid row\n",
    "raw_schema_and_corrupt = raw_schema.add(StructField(\"_corrupt_record\", StringType(), True))"
   ]
  },
  {
   "cell_type": "code",
   "execution_count": 0,
   "metadata": {
    "application/vnd.databricks.v1+cell": {
     "cellMetadata": {
      "byteLimit": 2048000,
      "rowLimit": 10000
     },
     "inputWidgets": {},
     "nuid": "8c40f93d-b8ce-4979-ac4a-f7949262e4cb",
     "showTitle": false,
     "tableResultSettingsMap": {},
     "title": ""
    }
   },
   "outputs": [],
   "source": [
    "# df based on bronze df with json data column holding the actual json now\n",
    "parsed_df = df_bronze.withColumn(\"data\", from_json(col(\"json_str\"), raw_schema_and_corrupt, {\"mode\": \"PERMISSIVE\"}))"
   ]
  },
  {
   "cell_type": "code",
   "execution_count": 0,
   "metadata": {
    "application/vnd.databricks.v1+cell": {
     "cellMetadata": {
      "byteLimit": 2048000,
      "rowLimit": 10000
     },
     "inputWidgets": {},
     "nuid": "0ae45754-6b08-457e-8e9d-32d826918c0e",
     "showTitle": false,
     "tableResultSettingsMap": {},
     "title": ""
    }
   },
   "outputs": [],
   "source": [
    "# create df for succesffully parsed and failed rows\n",
    "df_parsed_invalid = parsed_df.filter(col(\"data._corrupt_record\").isNotNull())\n",
    "df_parsed_valid = parsed_df.filter(col(\"data._corrupt_record\").isNull())"
   ]
  },
  {
   "cell_type": "code",
   "execution_count": 0,
   "metadata": {
    "application/vnd.databricks.v1+cell": {
     "cellMetadata": {
      "byteLimit": 2048000,
      "rowLimit": 10000
     },
     "inputWidgets": {},
     "nuid": "6fd0990e-fe29-4c19-953d-c823f6345dc1",
     "showTitle": false,
     "tableResultSettingsMap": {},
     "title": ""
    }
   },
   "outputs": [],
   "source": [
    "# bronze to silver processing (select relevant columns, and create dates)\n",
    "processed_df = df_parsed_valid.select(\n",
    "    col(\"data.name\").alias(\"city\"),\n",
    "    col(\"data.main.temp\").alias(\"temperature\"),\n",
    "    col(\"data.main.feels_like\").alias(\"feel_temperature\"),\n",
    "    col(\"data.main.temp_min\").alias(\"temp_min\"),\n",
    "    col(\"data.main.temp_max\").alias(\"temp_max\"),\n",
    "    col(\"data.main.humidity\").alias(\"humidity\"),\n",
    "    col(\"data.main.pressure\").alias(\"pressure\"),\n",
    "    col(\"data.clouds.all\").alias(\"cloudiness\"),\n",
    "    col(\"data.wind.speed\").alias(\"wind_speed\"),\n",
    "    col(\"data.wind.deg\").alias(\"wind_direction\"),\n",
    "    col(\"data.weather\")[0][\"main\"].alias(\"weather_category\"),\n",
    "    col(\"data.weather\")[0][\"description\"].alias(\"weather_description\"),\n",
    "    col(\"data.weather\")[0][\"icon\"].alias(\"weather_icon\"),\n",
    "    col(\"data.sys.sunrise\").alias(\"sunrise_time\"),\n",
    "    col(\"data.sys.sunset\").alias(\"sunset_time\"),\n",
    "    col(\"recording_timestamp\").alias(\"enqueued_time\"),  # this is enqueued timestamp from raw eventhubs event\n",
    "    current_timestamp().alias(\"recording_timestamp\")\n",
    ")"
   ]
  },
  {
   "cell_type": "code",
   "execution_count": 0,
   "metadata": {
    "application/vnd.databricks.v1+cell": {
     "cellMetadata": {
      "byteLimit": 2048000,
      "rowLimit": 10000
     },
     "inputWidgets": {},
     "nuid": "133f7185-7063-48fe-8a62-af702c059ea5",
     "showTitle": false,
     "tableResultSettingsMap": {},
     "title": ""
    }
   },
   "outputs": [],
   "source": [
    "# write stream to silver storage\n",
    "processed_df.writeStream \\\n",
    "    .format(\"delta\") \\\n",
    "    .option(\"checkpointLocation\", \"abfss://unity-catalog-storage@dbstorage7pezjm3fdwfxa.dfs.core.windows.net/weather_data/checkpoints/silver/weather_data\") \\\n",
    "    .outputMode(\"append\") \\\n",
    "    .toTable(\"azure_weather_db.silver.weather_data\")"
   ]
  },
  {
   "cell_type": "code",
   "execution_count": 0,
   "metadata": {
    "application/vnd.databricks.v1+cell": {
     "cellMetadata": {
      "byteLimit": 2048000,
      "rowLimit": 10000
     },
     "inputWidgets": {},
     "nuid": "99c188e9-1a26-4746-ae55-115afd39fd4e",
     "showTitle": false,
     "tableResultSettingsMap": {},
     "title": ""
    }
   },
   "outputs": [],
   "source": [
    "# reset table for real run\n",
    "spark.sql(\"truncate table azure_weather_db.bronze.raw_weather_data\")\n",
    "spark.sql(\"truncate table azure_weather_db.silver.weather_data\")"
   ]
  },
  {
   "cell_type": "code",
   "execution_count": 0,
   "metadata": {
    "application/vnd.databricks.v1+cell": {
     "cellMetadata": {
      "byteLimit": 2048000,
      "rowLimit": 10000
     },
     "inputWidgets": {},
     "nuid": "59d55ff5-5324-43e9-97f7-dcd3acd47110",
     "showTitle": false,
     "tableResultSettingsMap": {},
     "title": ""
    }
   },
   "outputs": [],
   "source": [
    "spark.sql(\"SELECT * FROM azure_weather_db.silver.weather_data\").display()"
   ]
  },
  {
   "cell_type": "code",
   "execution_count": 0,
   "metadata": {
    "application/vnd.databricks.v1+cell": {
     "cellMetadata": {
      "byteLimit": 2048000,
      "rowLimit": 10000
     },
     "inputWidgets": {},
     "nuid": "37147f36-2dc4-4c82-a84f-6859307655b4",
     "showTitle": false,
     "tableResultSettingsMap": {},
     "title": ""
    }
   },
   "outputs": [],
   "source": [
    "spark.sql(\"SELECT count(*) FROM azure_weather_db.silver.weather_data\").display()"
   ]
  },
  {
   "cell_type": "code",
   "execution_count": 0,
   "metadata": {
    "application/vnd.databricks.v1+cell": {
     "cellMetadata": {},
     "inputWidgets": {},
     "nuid": "023bc127-1afc-4cc8-b86c-2aad0d8494dd",
     "showTitle": false,
     "tableResultSettingsMap": {},
     "title": ""
    }
   },
   "outputs": [],
   "source": []
  },
  {
   "cell_type": "code",
   "execution_count": 0,
   "metadata": {
    "application/vnd.databricks.v1+cell": {
     "cellMetadata": {},
     "inputWidgets": {},
     "nuid": "b539d296-a0f8-4638-ac99-04444645e3b3",
     "showTitle": false,
     "tableResultSettingsMap": {},
     "title": ""
    }
   },
   "outputs": [],
   "source": []
  },
  {
   "cell_type": "code",
   "execution_count": 0,
   "metadata": {
    "application/vnd.databricks.v1+cell": {
     "cellMetadata": {
      "byteLimit": 2048000,
      "rowLimit": 10000
     },
     "inputWidgets": {},
     "nuid": "fd151c15-2d78-4d20-8938-cc73ab2f5f76",
     "showTitle": false,
     "tableResultSettingsMap": {},
     "title": ""
    }
   },
   "outputs": [],
   "source": [
    "# reset checkpoints -------------------------------\n",
    "dbutils.fs.rm(\"abfss://unity-catalog-storage@dbstorage7pezjm3fdwfxa.dfs.core.windows.net/weather_data/checkpoints/silver/weather_data\", recurse=True)\n",
    "dbutils.fs.rm(\"abfss://unity-catalog-storage@dbstorage7pezjm3fdwfxa.dfs.core.windows.net/weather_data/checkpoints/bronze/raw_weather_data\", recurse=True)\n",
    "dbutils.fs.rm(\"abfss://unity-catalog-storage@dbstorage7pezjm3fdwfxa.dfs.core.windows.net/weather_data/checkpoints/silver/weather_data\", recurse=True)"
   ]
  },
  {
   "cell_type": "code",
   "execution_count": 0,
   "metadata": {
    "application/vnd.databricks.v1+cell": {
     "cellMetadata": {
      "byteLimit": 2048000,
      "rowLimit": 10000
     },
     "inputWidgets": {},
     "nuid": "c7f85428-8e50-4a28-b660-787024febeb8",
     "showTitle": false,
     "tableResultSettingsMap": {},
     "title": ""
    }
   },
   "outputs": [],
   "source": [
    "dbutils.fs.ls(\"abfss://unity-catalog-storage@dbstorage7pezjm3fdwfxa.dfs.core.windows.net/weather_data/checkpoints/bronze\")"
   ]
  },
  {
   "cell_type": "code",
   "execution_count": 0,
   "metadata": {
    "application/vnd.databricks.v1+cell": {
     "cellMetadata": {},
     "inputWidgets": {},
     "nuid": "050383e2-2e11-48bf-9e69-f6faa799ad5a",
     "showTitle": false,
     "tableResultSettingsMap": {},
     "title": ""
    }
   },
   "outputs": [],
   "source": []
  },
  {
   "cell_type": "code",
   "execution_count": 0,
   "metadata": {
    "application/vnd.databricks.v1+cell": {
     "cellMetadata": {
      "byteLimit": 2048000,
      "rowLimit": 10000
     },
     "inputWidgets": {},
     "nuid": "ae9039c9-fcbf-43ed-a6c6-11f129c4ad89",
     "showTitle": false,
     "tableResultSettingsMap": {},
     "title": ""
    }
   },
   "outputs": [],
   "source": [
    "# store corrupted records\n",
    "df_parsed_invalid.writeStream \\\n",
    "    .format(\"delta\") \\\n",
    "    .outputMode(\"append\") \\\n",
    "    .option(\"checkpointLocation\", \"abfss://unity-catalog-storage@dbstorage7pezjm3fdwfxa.dfs.core.windows.net/weather_data/checkpoints/silver/corrupt_data\") \\\n",
    "    .start(\"abfss://unity-catalog-storage@dbstorage7pezjm3fdwfxa.dfs.core.windows.net/weather_data/silver/invalid_records\")"
   ]
  },
  {
   "cell_type": "code",
   "execution_count": 0,
   "metadata": {
    "application/vnd.databricks.v1+cell": {
     "cellMetadata": {
      "byteLimit": 2048000,
      "rowLimit": 10000
     },
     "inputWidgets": {},
     "nuid": "fa2b3639-97e0-4d46-8e0f-5b7c8fa0912d",
     "showTitle": false,
     "tableResultSettingsMap": {},
     "title": ""
    }
   },
   "outputs": [],
   "source": [
    "display(dbutils.fs.ls(\"abfss://unity-catalog-storage@dbstorage7pezjm3fdwfxa.dfs.core.windows.net/weather_data/checkpoints/silver/weather_data\"))"
   ]
  },
  {
   "cell_type": "code",
   "execution_count": 0,
   "metadata": {
    "application/vnd.databricks.v1+cell": {
     "cellMetadata": {},
     "inputWidgets": {},
     "nuid": "1b3b4246-3958-49b4-bd89-8940758970e5",
     "showTitle": false,
     "tableResultSettingsMap": {},
     "title": ""
    }
   },
   "outputs": [],
   "source": []
  }
 ],
 "metadata": {
  "application/vnd.databricks.v1+notebook": {
   "computePreferences": null,
   "dashboards": [],
   "environmentMetadata": {
    "base_environment": "",
    "environment_version": "2"
   },
   "inputWidgetPreferences": null,
   "language": "python",
   "notebookMetadata": {
    "mostRecentlyExecutedCommandWithImplicitDF": {
     "commandId": -1,
     "dataframes": [
      "_sqldf"
     ]
    },
    "pythonIndentUnit": 4
   },
   "notebookName": "ETL_notebook",
   "widgets": {}
  },
  "language_info": {
   "name": "python"
  }
 },
 "nbformat": 4,
 "nbformat_minor": 0
}
